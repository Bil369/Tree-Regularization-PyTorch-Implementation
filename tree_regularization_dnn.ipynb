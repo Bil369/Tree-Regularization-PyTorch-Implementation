{
 "cells": [
  {
   "cell_type": "code",
   "execution_count": 1,
   "metadata": {},
   "outputs": [],
   "source": [
    "import copy\n",
    "#import pydotplus\n",
    "from sklearn.datasets import load_breast_cancer\n",
    "from sklearn.model_selection import train_test_split\n",
    "from sklearn.tree import DecisionTreeClassifier, export_graphviz\n",
    "import torch\n",
    "import torch.nn as nn\n",
    "import torch.optim as optim"
   ]
  },
  {
   "cell_type": "code",
   "execution_count": 22,
   "metadata": {},
   "outputs": [],
   "source": [
    "# device\n",
    "device = torch.device('cuda' if torch.cuda.is_available() else 'cpu')\n",
    "# hyper-parameters about DNN model\n",
    "input_size = 30\n",
    "hidden_size = 180\n",
    "num_classes = 2\n",
    "# hyper-parameters about optimizer\n",
    "learning_rate = 0.001\n",
    "momentum = 0.9\n",
    "# Hyper-parameters about training control\n",
    "batch_size = 32\n",
    "num_iters = 300\n",
    "iters_retrain = 10\n",
    "num_retrains = num_iters // iters_retrain\n",
    "lambda_punish = 100 # regularization strength about DNN\n",
    "epsilon_punish = 0.01 # regularization strength about surrogate model"
   ]
  },
  {
   "cell_type": "code",
   "execution_count": 23,
   "metadata": {},
   "outputs": [],
   "source": [
    "class NeuralNet(nn.Module):\n",
    "    \n",
    "    '''Fully connected neural network with one hidden layer\n",
    "    '''\n",
    "    \n",
    "    def __init__(self, input_size, hidden_size, num_classes):\n",
    "        super(NeuralNet, self).__init__()\n",
    "        self.fc1 = nn.Linear(input_size, hidden_size) \n",
    "        self.relu = nn.ReLU()\n",
    "        self.fc2 = nn.Linear(hidden_size, num_classes)  \n",
    "    \n",
    "    def forward(self, x):\n",
    "        out = self.fc1(x)\n",
    "        out = self.relu(out)\n",
    "        out = self.fc2(out)\n",
    "        return out"
   ]
  },
  {
   "cell_type": "code",
   "execution_count": 24,
   "metadata": {},
   "outputs": [],
   "source": [
    "class SurrogateModel(nn.Module):\n",
    "    \n",
    "    '''Fully connected neural network with one hidden layer\n",
    "       Split the fc1 into two parts \n",
    "       because only in this way can have compute graph with DNN model weights\n",
    "       so that can backpropagation to update DNN model weights and this is tree regularization\n",
    "       (maybe have other ways to do this faster. Currently this is not very elegant.)\n",
    "    '''\n",
    "    \n",
    "    def __init__(self):\n",
    "        super(SurrogateModel, self).__init__()\n",
    "        self.fc1_1 = nn.Linear(5400, 7500)\n",
    "        self.fc1_2 = nn.Linear(360, 7500)\n",
    "        self.relu = nn.ReLU()\n",
    "        self.fc2 = nn.Linear(7500, 1)\n",
    "    \n",
    "    def forward(self, x):\n",
    "        # x is the model.state_dict().items()[training] or model.named_parameters()[calculate APL]\n",
    "        for key, value in x:\n",
    "            if key == 'fc1.weight':\n",
    "                out1 = self.fc1_1(value.view(-1))\n",
    "            elif key == 'fc2.weight':\n",
    "                out2 = self.fc1_2(value.view(-1))\n",
    "        out = out1 + out2\n",
    "        out = self.relu(out)\n",
    "        out = self.fc2(out)\n",
    "        \n",
    "        return out"
   ]
  },
  {
   "cell_type": "code",
   "execution_count": 25,
   "metadata": {},
   "outputs": [],
   "source": [
    "def get_jth_minibatach(j, batch_size, X_train, y_train):\n",
    "    '''返回数据集中的第j个minibatch\n",
    "       \n",
    "       @param j: 第j次iters_retrain\n",
    "       @param batch_size: int\n",
    "       @param X_train: torch.tensor\n",
    "       @param y_train: torch.tensor\n",
    "    '''\n",
    "    num_data = y_train.size(0)\n",
    "    num_minibatches = num_data // batch_size + ((num_data % batch_size) > 0)\n",
    "    j = j % num_minibatches\n",
    "    start = j * batch_size\n",
    "    stop = start + batch_size\n",
    "    return X_train[start:stop], y_train[start:stop]"
   ]
  },
  {
   "cell_type": "code",
   "execution_count": 26,
   "metadata": {},
   "outputs": [],
   "source": [
    "def get_num_weights(model):\n",
    "    '''打印模型的各层weight参数个数\n",
    "    '''\n",
    "    for key, value in model.state_dict().items():\n",
    "        if key.endswith('weight'):\n",
    "            print(torch.prod(torch.tensor(value.size())))"
   ]
  },
  {
   "cell_type": "code",
   "execution_count": 27,
   "metadata": {},
   "outputs": [],
   "source": [
    "def get_y_APL_train(saved_model_state_dict, X_train):\n",
    "    tmp_model = NeuralNet(input_size, hidden_size, num_classes)\n",
    "    tmp_model.to(device)\n",
    "    y_APL_train = torch.zeros(len(saved_model_state_dict))\n",
    "    for i in range(len(saved_model_state_dict)):\n",
    "        tmp_model.load_state_dict(saved_model_state_dict[i])\n",
    "        X_train = X_train.to(device)\n",
    "        outputs = tmp_model(X_train)\n",
    "        _, y_pred = torch.max(outputs.data, 1)\n",
    "        tree = DecisionTreeClassifier()\n",
    "        X_train = X_train.to(torch.device('cpu'))\n",
    "        y_pred = y_pred.to(torch.device('cpu'))\n",
    "        tree.fit(X_train.numpy(), y_pred.numpy())\n",
    "        decision_path_matrix = tree.decision_path(X_train.numpy())\n",
    "        apl = decision_path_matrix.sum() / X_train.size(0)\n",
    "        y_APL_train[i] = apl\n",
    "    return y_APL_train"
   ]
  },
  {
   "cell_type": "code",
   "execution_count": 28,
   "metadata": {},
   "outputs": [],
   "source": [
    "# dataset\n",
    "data = load_breast_cancer()\n",
    "X_train, X_test, y_train, y_test = train_test_split(data.data, data.target, test_size=0.25, random_state=2020)\n",
    "X_train, X_test = torch.tensor(X_train, dtype=torch.float), torch.tensor(X_test, dtype=torch.float)\n",
    "y_train, y_test = torch.tensor(y_train, dtype=torch.long), torch.tensor(y_test, dtype=torch.long)"
   ]
  },
  {
   "cell_type": "code",
   "execution_count": 31,
   "metadata": {},
   "outputs": [
    {
     "name": "stdout",
     "output_type": "stream",
     "text": [
      "Training DNN model......\n",
      "DNN iters: [10]/[300] loss: 1.58 APL: 0.04\n",
      "Get {weights, APL} dataset......\n",
      "Mean APL: 2.42\n",
      "Training surrogate model......\n",
      "Surrogate iters: [200]/[1000] loss: 3.25\n",
      "Surrogate iters: [400]/[1000] loss: 2.91\n",
      "Surrogate iters: [600]/[1000] loss: 2.73\n",
      "Surrogate iters: [800]/[1000] loss: 3.12\n",
      "Surrogate iters: [1000]/[1000] loss: 2.52\n",
      "Training DNN model......\n",
      "DNN iters: [20]/[300] loss: -448.73 APL: -4.55\n",
      "Get {weights, APL} dataset......\n",
      "Mean APL: 2.18\n",
      "Training surrogate model......\n",
      "Surrogate iters: [200]/[1000] loss: 2.20\n"
     ]
    },
    {
     "ename": "KeyboardInterrupt",
     "evalue": "",
     "output_type": "error",
     "traceback": [
      "\u001b[0;31m---------------------------------------------------------------------------\u001b[0m",
      "\u001b[0;31mKeyboardInterrupt\u001b[0m                         Traceback (most recent call last)",
      "\u001b[0;32m<ipython-input-31-6d9622b66587>\u001b[0m in \u001b[0;36m<module>\u001b[0;34m\u001b[0m\n\u001b[1;32m     42\u001b[0m     \u001b[0;32mfor\u001b[0m \u001b[0mj\u001b[0m \u001b[0;32min\u001b[0m \u001b[0mrange\u001b[0m\u001b[0;34m(\u001b[0m\u001b[0;36m1000\u001b[0m\u001b[0;34m)\u001b[0m\u001b[0;34m:\u001b[0m\u001b[0;34m\u001b[0m\u001b[0;34m\u001b[0m\u001b[0m\n\u001b[1;32m     43\u001b[0m         \u001b[0mtrn_x\u001b[0m\u001b[0;34m,\u001b[0m \u001b[0mtrn_y\u001b[0m \u001b[0;34m=\u001b[0m \u001b[0mget_jth_minibatach\u001b[0m\u001b[0;34m(\u001b[0m\u001b[0mj\u001b[0m\u001b[0;34m,\u001b[0m \u001b[0mbatch_size\u001b[0m\u001b[0;34m,\u001b[0m \u001b[0msaved_model_state_dict\u001b[0m\u001b[0;34m,\u001b[0m \u001b[0my_APL_train\u001b[0m\u001b[0;34m)\u001b[0m\u001b[0;34m\u001b[0m\u001b[0;34m\u001b[0m\u001b[0m\n\u001b[0;32m---> 44\u001b[0;31m         \u001b[0mtrn_y\u001b[0m \u001b[0;34m=\u001b[0m \u001b[0mtrn_y\u001b[0m\u001b[0;34m.\u001b[0m\u001b[0mto\u001b[0m\u001b[0;34m(\u001b[0m\u001b[0mdevice\u001b[0m\u001b[0;34m)\u001b[0m\u001b[0;34m\u001b[0m\u001b[0;34m\u001b[0m\u001b[0m\n\u001b[0m\u001b[1;32m     45\u001b[0m         \u001b[0moutput\u001b[0m \u001b[0;34m=\u001b[0m \u001b[0mtorch\u001b[0m\u001b[0;34m.\u001b[0m\u001b[0mzeros\u001b[0m\u001b[0;34m(\u001b[0m\u001b[0mtrn_y\u001b[0m\u001b[0;34m.\u001b[0m\u001b[0msize\u001b[0m\u001b[0;34m(\u001b[0m\u001b[0;36m0\u001b[0m\u001b[0;34m)\u001b[0m\u001b[0;34m,\u001b[0m \u001b[0mdevice\u001b[0m\u001b[0;34m=\u001b[0m\u001b[0mdevice\u001b[0m\u001b[0;34m)\u001b[0m\u001b[0;34m\u001b[0m\u001b[0;34m\u001b[0m\u001b[0m\n\u001b[1;32m     46\u001b[0m         \u001b[0;32mfor\u001b[0m \u001b[0mk\u001b[0m \u001b[0;32min\u001b[0m \u001b[0mrange\u001b[0m\u001b[0;34m(\u001b[0m\u001b[0mlen\u001b[0m\u001b[0;34m(\u001b[0m\u001b[0mtrn_x\u001b[0m\u001b[0;34m)\u001b[0m\u001b[0;34m)\u001b[0m\u001b[0;34m:\u001b[0m\u001b[0;34m\u001b[0m\u001b[0;34m\u001b[0m\u001b[0m\n",
      "\u001b[0;31mKeyboardInterrupt\u001b[0m: "
     ]
    }
   ],
   "source": [
    "# train\n",
    "model = NeuralNet(input_size, hidden_size, num_classes)\n",
    "model.to(device)\n",
    "criterion = nn.CrossEntropyLoss()\n",
    "#optimizer = optim.SGD(model.parameters(), lr=learning_rate, momentum=momentum)\n",
    "optimizer = optim.Adam(model.parameters(), lr=learning_rate)\n",
    "\n",
    "# surrogate model\n",
    "surrogate_model = SurrogateModel()\n",
    "surrogate_model.to(device)\n",
    "criterion_surrogate = nn.MSELoss()\n",
    "#optimizer_surrogate = optim.SGD(surrogate_model.parameters(), lr=learning_rate, momentum=momentum)\n",
    "optimizer_surrogate = optim.Adam(surrogate_model.parameters(), lr=learning_rate)\n",
    "for i in range(num_retrains):\n",
    "    if i == 0 or (i+1) % 10 == 0:\n",
    "        saved_model_state_dict = [] # save the model state dict in each iters_retrain\n",
    "    # train DNN model\n",
    "    print('Training DNN model......')\n",
    "    for j in range(iters_retrain):\n",
    "        trn_x, trn_y = get_jth_minibatach(j, batch_size, X_train, y_train)\n",
    "        trn_x = trn_x.to(device)\n",
    "        trn_y = trn_y.to(device)\n",
    "        output = model(trn_x)\n",
    "        path_length = surrogate_model(model.named_parameters())\n",
    "        if i == 0:\n",
    "            loss = criterion(output, trn_y)\n",
    "        else:\n",
    "            loss = criterion(output, trn_y) + lambda_punish * path_length\n",
    "        optimizer.zero_grad()\n",
    "        loss.backward()\n",
    "        optimizer.step()\n",
    "        saved_model_state_dict.append(copy.deepcopy(model.state_dict()))\n",
    "        if (i*iters_retrain + j + 1) % 10 == 0:\n",
    "            print('DNN iters: [{0}]/[{1}] loss: {2:.2f} APL: {3:.2f}'.format((i*iters_retrain + j + 1), num_iters, \n",
    "                                                                             loss.item(), path_length.item()))\n",
    "    # train Decision Tree to get {weights, APL} dataset\n",
    "    print('Get {weights, APL} dataset......')\n",
    "    y_APL_train = get_y_APL_train(saved_model_state_dict, X_train)\n",
    "    print('Mean APL: {0:.2F}'.format(y_APL_train.mean().item()))\n",
    "    print('Training surrogate model......')\n",
    "    # train surrogate model\n",
    "    for j in range(1000):\n",
    "        trn_x, trn_y = get_jth_minibatach(j, batch_size, saved_model_state_dict, y_APL_train)\n",
    "        trn_y = trn_y.to(device)\n",
    "        output = torch.zeros(trn_y.size(0), device=device)\n",
    "        for k in range(len(trn_x)):\n",
    "            output[k] = surrogate_model(trn_x[k].items())\n",
    "        loss = criterion_surrogate(output, trn_y)\n",
    "        # l2 norm\n",
    "        l2_norm = 0\n",
    "        for key, value in surrogate_model.named_parameters():\n",
    "            if key.endswith('weight'):\n",
    "                l2_norm += value.norm()\n",
    "        loss += epsilon_punish * l2_norm\n",
    "        optimizer_surrogate.zero_grad()\n",
    "        loss.backward()\n",
    "        optimizer_surrogate.step()\n",
    "        if (j+1) % 200 == 0:\n",
    "            print('Surrogate iters: [{0}]/[1000] loss: {1:.2f}'.format(j+1, loss.item()))"
   ]
  },
  {
   "cell_type": "code",
   "execution_count": 32,
   "metadata": {},
   "outputs": [
    {
     "name": "stdout",
     "output_type": "stream",
     "text": [
      "Accuracy of the network on the Breast Cancer dataset: 57.34265734265734 %\n"
     ]
    }
   ],
   "source": [
    "# test\n",
    "with torch.no_grad():\n",
    "    correct = 0\n",
    "    total = 0\n",
    "    X_test = X_test.to(device)\n",
    "    y_test = y_test.to(device)\n",
    "    outputs = model(X_test)\n",
    "    _, predicted = torch.max(outputs.data, 1)\n",
    "    total += y_test.size(0)\n",
    "    correct += (predicted == y_test).sum().item()\n",
    "\n",
    "    print('Accuracy of the network on the Breast Cancer dataset: {0} %'.format(100 * correct / total))"
   ]
  },
  {
   "cell_type": "code",
   "execution_count": 33,
   "metadata": {},
   "outputs": [],
   "source": [
    "torch.save(model.state_dict(), 'dnn_model.pth')\n",
    "torch.save(surrogate_model.state_dict(), 'surrogate_model.pth')"
   ]
  },
  {
   "cell_type": "code",
   "execution_count": 21,
   "metadata": {},
   "outputs": [
    {
     "data": {
      "text/plain": [
       "True"
      ]
     },
     "execution_count": 21,
     "metadata": {},
     "output_type": "execute_result"
    }
   ],
   "source": [
    "# visualize\n",
    "model = NeuralNet(input_size, hidden_size, num_classes)\n",
    "model.to(device)\n",
    "model.load_state_dict(torch.load('dnn_model.pth'))\n",
    "X_train = X_train.to(device)\n",
    "outputs = model(X_train)\n",
    "_, y_pred = torch.max(outputs.data, 1)\n",
    "tree = DecisionTreeClassifier()\n",
    "X_train = X_train.to(torch.device('cpu'))\n",
    "y_pred = y_pred.to(torch.device('cpu'))\n",
    "tree.fit(X_train.numpy(), y_pred.numpy())\n",
    "dot_data = export_graphviz(tree, out_file=None,\n",
    "                           feature_names=data.feature_names,\n",
    "                           class_names=data.target_names,\n",
    "                           filled=True, rounded=True,\n",
    "                           special_characters=True)\n",
    "graph = pydotplus.graph_from_dot_data(dot_data)\n",
    "graph.write_pdf('tree_visualize.pdf')"
   ]
  },
  {
   "cell_type": "code",
   "execution_count": null,
   "metadata": {},
   "outputs": [],
   "source": [
    "# visualize original_tree\n",
    "tree = DecisionTreeClassifier()\n",
    "X_train = X_train.to(torch.device('cpu'))\n",
    "y_train = y_train.to(torch.device('cpu'))\n",
    "tree.fit(X_train.numpy(), y_train.numpy())\n",
    "dot_data = export_graphviz(tree, out_file=None,\n",
    "                           feature_names=data.feature_names,\n",
    "                           class_names=data.target_names,\n",
    "                           filled=True, rounded=True,\n",
    "                           special_characters=True)\n",
    "graph = pydotplus.graph_from_dot_data(dot_data)\n",
    "graph.write_pdf('tree_visualize_unreg.pdf')"
   ]
  }
 ],
 "metadata": {
  "kernelspec": {
   "display_name": "Python 3",
   "language": "python",
   "name": "python3"
  },
  "language_info": {
   "codemirror_mode": {
    "name": "ipython",
    "version": 3
   },
   "file_extension": ".py",
   "mimetype": "text/x-python",
   "name": "python",
   "nbconvert_exporter": "python",
   "pygments_lexer": "ipython3",
   "version": "3.7.6"
  }
 },
 "nbformat": 4,
 "nbformat_minor": 4
}

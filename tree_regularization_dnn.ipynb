{
 "cells": [
  {
   "cell_type": "code",
   "execution_count": 157,
   "metadata": {},
   "outputs": [],
   "source": [
    "from sklearn.datasets import load_breast_cancer\n",
    "from sklearn.model_selection import train_test_split\n",
    "import torch\n",
    "import torch.nn as nn\n",
    "import torch.optim as optim"
   ]
  },
  {
   "cell_type": "code",
   "execution_count": 158,
   "metadata": {},
   "outputs": [],
   "source": [
    "# device\n",
    "device = torch.device('cuda' if torch.cuda.is_available() else 'cpu')\n",
    "# hyper-parameters about DNN model\n",
    "input_size = 30\n",
    "hidden_size = 180\n",
    "num_classes = 2\n",
    "# hyper-parameters about optimizer\n",
    "learning_rate = 0.001\n",
    "momentum = 0.9\n",
    "# Hyper-parameters about training control\n",
    "batch_size = 32\n",
    "num_iters = 300\n",
    "iters_retrain = 25\n",
    "num_retrains = num_iters // iters_retrain"
   ]
  },
  {
   "cell_type": "code",
   "execution_count": 159,
   "metadata": {},
   "outputs": [],
   "source": [
    "class NeuralNet(nn.Module):\n",
    "    \n",
    "    '''Fully connected neural network with one hidden layer\n",
    "    '''\n",
    "    \n",
    "    def __init__(self, input_size, hidden_size, num_classes):\n",
    "        super(NeuralNet, self).__init__()\n",
    "        self.fc1 = nn.Linear(input_size, hidden_size) \n",
    "        self.relu = nn.ReLU()\n",
    "        self.fc2 = nn.Linear(hidden_size, num_classes)  \n",
    "    \n",
    "    def forward(self, x):\n",
    "        out = self.fc1(x)\n",
    "        out = self.relu(out)\n",
    "        out = self.fc2(out)\n",
    "        return out"
   ]
  },
  {
   "cell_type": "code",
   "execution_count": 160,
   "metadata": {},
   "outputs": [],
   "source": [
    "def get_jth_minibatach(j, batch_size, X_train, y_train):\n",
    "    '''返回数据集中的第j个minibatch\n",
    "       \n",
    "       @param j: 第j次iters_retrain\n",
    "       @param batch_size: int\n",
    "       @param X_train: torch.tensor\n",
    "       @param y_train: torch.tensor\n",
    "    '''\n",
    "    num_data = X_train.size(0)\n",
    "    num_minibatches = num_data // batch_size + ((num_data % batch_size) > 0)\n",
    "    j = j % num_minibatches\n",
    "    start = j * batch_size\n",
    "    stop = start + batch_size\n",
    "    return X_train[start:stop], y_train[start:stop]"
   ]
  },
  {
   "cell_type": "code",
   "execution_count": 161,
   "metadata": {},
   "outputs": [],
   "source": [
    "def get_num_weights(model):\n",
    "    '''返回模型的weights参数个数\n",
    "    '''\n",
    "    num_weights = 0\n",
    "    for key, value in model.state_dict().items():\n",
    "        if key.endswith('weight'):\n",
    "            num_weights += torch.prod(torch.tensor(value.size()))\n",
    "    return num_weights.item()"
   ]
  },
  {
   "cell_type": "code",
   "execution_count": 162,
   "metadata": {},
   "outputs": [],
   "source": [
    "def get_row_weights(model_state_dict):\n",
    "    row_weights = []\n",
    "    for key, value in model_state_dict.items():\n",
    "        if key.endswith('weight'):\n",
    "            row_weights.append(value.view(-1))\n",
    "    return torch.cat(row_weights)"
   ]
  },
  {
   "cell_type": "code",
   "execution_count": 163,
   "metadata": {},
   "outputs": [],
   "source": [
    "# dataset\n",
    "data = load_breast_cancer()\n",
    "X_train, X_test, y_train, y_test = train_test_split(data.data, data.target, test_size=0.25, random_state=2020)\n",
    "X_train, X_test = torch.tensor(X_train, dtype=torch.float), torch.tensor(X_test, dtype=torch.float)\n",
    "y_train, y_test = torch.tensor(y_train, dtype=torch.long), torch.tensor(y_test, dtype=torch.long)"
   ]
  },
  {
   "cell_type": "code",
   "execution_count": 164,
   "metadata": {},
   "outputs": [
    {
     "name": "stdout",
     "output_type": "stream",
     "text": [
      "iters: [10]/[300] loss: 0.35\n",
      "iters: [20]/[300] loss: 0.31\n",
      "iters: [30]/[300] loss: 0.27\n",
      "iters: [40]/[300] loss: 0.23\n",
      "iters: [50]/[300] loss: 0.20\n",
      "iters: [60]/[300] loss: 0.20\n",
      "iters: [70]/[300] loss: 0.20\n",
      "iters: [80]/[300] loss: 0.20\n",
      "iters: [90]/[300] loss: 0.19\n",
      "iters: [100]/[300] loss: 0.19\n",
      "iters: [110]/[300] loss: 0.19\n",
      "iters: [120]/[300] loss: 0.19\n",
      "iters: [130]/[300] loss: 0.19\n",
      "iters: [140]/[300] loss: 0.19\n",
      "iters: [150]/[300] loss: 0.19\n",
      "iters: [160]/[300] loss: 0.19\n",
      "iters: [170]/[300] loss: 0.19\n",
      "iters: [180]/[300] loss: 0.19\n",
      "iters: [190]/[300] loss: 0.19\n",
      "iters: [200]/[300] loss: 0.19\n",
      "iters: [210]/[300] loss: 0.19\n",
      "iters: [220]/[300] loss: 0.20\n",
      "iters: [230]/[300] loss: 0.19\n",
      "iters: [240]/[300] loss: 0.21\n",
      "iters: [250]/[300] loss: 0.28\n",
      "iters: [260]/[300] loss: 0.20\n",
      "iters: [270]/[300] loss: 0.19\n",
      "iters: [280]/[300] loss: 0.19\n",
      "iters: [290]/[300] loss: 0.18\n",
      "iters: [300]/[300] loss: 0.18\n"
     ]
    }
   ],
   "source": [
    "# train\n",
    "model = NeuralNet(input_size, hidden_size, num_classes)\n",
    "# initialize model weights\n",
    "for m in model.modules():\n",
    "    if isinstance(m, (nn.Linear)):\n",
    "        nn.init.xavier_uniform_(m.weight)\n",
    "model.to(device)\n",
    "criterion = nn.CrossEntropyLoss()\n",
    "optimizer = optim.SGD(model.parameters(), lr=learning_rate, momentum=momentum) \n",
    "for i in range(num_retrains):\n",
    "    saved_model_state_dict = [] # save the model state dict in each iters_retrain\n",
    "    for j in range(iters_retrain):\n",
    "        trn_x, trn_y = get_jth_minibatach(j, batch_size, X_train, y_train)\n",
    "        trn_x.to(device)\n",
    "        trn_y.to(device)\n",
    "        output = model(X_train)\n",
    "        loss = criterion(output, y_train) # + lambda * path_length TODO\n",
    "        optimizer.zero_grad()\n",
    "        loss.backward()\n",
    "        optimizer.step()\n",
    "        saved_model_state_dict.append(copy.deepcopy(model.state_dict()))\n",
    "        if (i*iters_retrain + j + 1) % 10 == 0:\n",
    "            print('iters: [{0}]/[{1}] loss: {2:.2f}'.format((i*iters_retrain + j + 1), num_iters, loss))"
   ]
  },
  {
   "cell_type": "code",
   "execution_count": 165,
   "metadata": {},
   "outputs": [
    {
     "name": "stdout",
     "output_type": "stream",
     "text": [
      "Accuracy of the network on the Breast Cancer dataset: 91.60839160839161 %\n"
     ]
    }
   ],
   "source": [
    "# test\n",
    "with torch.no_grad():\n",
    "    correct = 0\n",
    "    total = 0\n",
    "    X_test.to(device)\n",
    "    y_test.to(device)\n",
    "    outputs = model(X_test)\n",
    "    _, predicted = torch.max(outputs.data, 1)\n",
    "    total += y_test.size(0)\n",
    "    correct += (predicted == y_test).sum().item()\n",
    "\n",
    "    print('Accuracy of the network on the Breast Cancer dataset: {0} %'.format(100 * correct / total))"
   ]
  },
  {
   "cell_type": "code",
   "execution_count": 166,
   "metadata": {},
   "outputs": [],
   "source": [
    "torch.save(model.state_dict(), 'dnn_model.pth')"
   ]
  },
  {
   "cell_type": "code",
   "execution_count": null,
   "metadata": {},
   "outputs": [],
   "source": []
  }
 ],
 "metadata": {
  "kernelspec": {
   "display_name": "Python 3",
   "language": "python",
   "name": "python3"
  },
  "language_info": {
   "codemirror_mode": {
    "name": "ipython",
    "version": 3
   },
   "file_extension": ".py",
   "mimetype": "text/x-python",
   "name": "python",
   "nbconvert_exporter": "python",
   "pygments_lexer": "ipython3",
   "version": "3.7.9"
  }
 },
 "nbformat": 4,
 "nbformat_minor": 4
}
